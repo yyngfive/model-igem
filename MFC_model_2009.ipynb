{
 "cells": [
  {
   "cell_type": "code",
   "execution_count": 1,
   "metadata": {},
   "outputs": [],
   "source": [
    "import numpy as np\n",
    "from scipy.integrate import odeint\n",
    "from scipy.optimize import fsolve\n",
    "import pandas as pd\n",
    "import matplotlib.pyplot as plt"
   ]
  },
  {
   "cell_type": "code",
   "execution_count": 16,
   "metadata": {},
   "outputs": [],
   "source": [
    "def Model(I, t, F,\n",
    "                R,\n",
    "                T,\n",
    "                k_m,\n",
    "                d_m,\n",
    "                k_aq,\n",
    "                d_cell,\n",
    "                C_a,\n",
    "                C_c,\n",
    "                V_a,\n",
    "                V_c,\n",
    "                A_m,\n",
    "                Y_ac,\n",
    "                K_dec,\n",
    "                f_x,\n",
    "                Q_a,\n",
    "                Q_c,\n",
    "                C_Ac0,\n",
    "                C_CO20,\n",
    "                X_0,\n",
    "                C_H0,\n",
    "                C_O20,\n",
    "                C_M0,\n",
    "                C_OH0,\n",
    "                U_0,\n",
    "                k10,\n",
    "                k20,\n",
    "                K_Ac,\n",
    "                K_O2,\n",
    "                alpha,\n",
    "                beta):\n",
    "    \n",
    "    C_Ac,C_CO2,C_H,X,C_O2,C_OH,C_M,eta_a,eta_c = I\n",
    "\n",
    "    r1 = k10 * np.exp(alpha * F * eta_a / (R * T)) * C_Ac * X / (C_Ac + K_Ac)\n",
    "\n",
    "    r2 = -k20 * np.exp((beta - 1) * F * eta_c / (R * T)) * C_O2 / (C_O2 + K_O2)\n",
    "\n",
    "    dC_Ac = Q_a * (C_Ac0 - C_Ac) / V_a - A_m * r1 / V_a\n",
    "    dC_CO2 = Q_a * (C_CO20 - C_CO2) / V_a + 2 * A_m * r1 / V_a\n",
    "    dC_H = Q_a * (C_H0 - C_H) / V_a + 8 * A_m * r1 / V_a\n",
    "    dX = (Q_a * (X_0 - X) / f_x + A_m*Y_ac*r1 - V_a*K_dec*X) / V_a\n",
    "\n",
    "    i = (U_0 - eta_a + eta_c) / (500 * A_m + d_m / k_m + d_cell / k_aq) #修改这个\n",
    "\n",
    "    N_M = 3600 * i / F\n",
    "\n",
    "    dC_O2 = Q_c * (C_O20 - C_O2) / V_c + A_m * r2 / V_c\n",
    "    dC_OH = Q_c * (C_OH0 - C_OH) / V_c + 4 * A_m * r2 / V_c\n",
    "    dC_M = Q_c * (C_M0 - C_M) / V_c + N_M * A_m / V_c\n",
    "\n",
    "    deta_a = (3600 * i - 8*F*r1) / C_a\n",
    "    deta_c = (-3600 * i - 4*F*r2) / C_c\n",
    "\n",
    "    return np.array([dC_Ac, dC_CO2, dC_H, dX, dC_O2, dC_OH, dC_M, deta_a, deta_c])\n",
    "\n"
   ]
  },
  {
   "cell_type": "code",
   "execution_count": 8,
   "metadata": {},
   "outputs": [],
   "source": [
    "def solve(I,t):\n",
    "    return odeint(Model,I,t,args=(96485.4, 8.314, 303, 17, 1.778e-4, 5, 2.2e-2, 4e2, 5e2, 5.5e-5, 5.5e-5, 5e-4, 0.05, 8.33e-4, 10, 2.25e-5, 1.11e-3, 1.56, 0, 0, 0, 0.3125, 0, 0, 0.77, 0.207, 3.288e-5, 0.592, 0.004, 0.051, 0.663))"
   ]
  },
  {
   "cell_type": "code",
   "execution_count": 5,
   "metadata": {},
   "outputs": [],
   "source": [
    "from icecream import ic"
   ]
  },
  {
   "cell_type": "code",
   "execution_count": 24,
   "metadata": {},
   "outputs": [
    {
     "data": {
      "text/plain": [
       "[<matplotlib.lines.Line2D at 0x1e32016a190>]"
      ]
     },
     "execution_count": 24,
     "metadata": {},
     "output_type": "execute_result"
    },
    {
     "data": {
      "image/png": "[encoded data removed]",
      "text/plain": [
       "<Figure size 432x288 with 1 Axes>"
      ]
     },
     "metadata": {
      "needs_background": "light"
     },
     "output_type": "display_data"
    }
   ],
   "source": [
    "I = (1.56, 0, 0, 0.001, 0.3125, 0, 0, 0, 0)\n",
    "t = np.arange(0,500,0.1)\n",
    "res = solve(I,t)\n",
    "\n",
    "eta_a = res[:,7]\n",
    "eta_c = res[:,8]\n",
    "\n",
    "U_0 = 0.77\n",
    "A_m = 5e-4\n",
    "d_m = 1.778e-4\n",
    "k_m = 17\n",
    "d_cell = 2.2e-2\n",
    "k_aq = 5\n",
    "\n",
    "i = (U_0 - eta_a + eta_c) / (500 * A_m + d_m / k_m + d_cell / k_aq) \n",
    "U = U_0 - eta_a + eta_c - (d_m / k_m + d_cell / k_aq) * i\n",
    "plt.plot(i,U)"
   ]
  }
 ],
 "metadata": {
  "kernelspec": {
   "display_name": "Python 3.8.10 ('base')",
   "language": "python",
   "name": "python3"
  },
  "language_info": {
   "codemirror_mode": {
    "name": "ipython",
    "version": 3
   },
   "file_extension": ".py",
   "mimetype": "text/x-python",
   "name": "python",
   "nbconvert_exporter": "python",
   "pygments_lexer": "ipython3",
   "version": "3.8.10"
  },
  "orig_nbformat": 4,
  "vscode": {
   "interpreter": {
    "hash": "205329d70d8b0adec7a60b133e8ace2c15b184f0945086327eda5948f641f23f"
   }
  }
 },
 "nbformat": 4,
 "nbformat_minor": 2
}
