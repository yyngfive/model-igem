{
 "cells": [
  {
   "cell_type": "code",
   "execution_count": 1,
   "metadata": {},
   "outputs": [],
   "source": [
    "import numpy as np\n",
    "from scipy.integrate import odeint\n",
    "from scipy.optimize import fsolve\n",
    "import pandas as pd\n",
    "import matplotlib.pyplot as plt"
   ]
  },
  {
   "cell_type": "code",
   "execution_count": null,
   "metadata": {},
   "outputs": [],
   "source": [
    "def Model(I,t,r_max,\n",
    "              K_s,\n",
    "              Y_ac,\n",
    "              b_det,\n",
    "              b_ina,\n",
    "              D_s,\n",
    "              L_l,\n",
    "              rho,\n",
    "              D_CO2,\n",
    "              D_H,\n",
    "              A_m):\n",
    "\n",
    "    phi_a, L, C_Sb, C_S, C_CO2b, C_CO2, C_H, V_L= I\n",
    "\n",
    "    mu = r_max * C_S / (K_s + C_S)\n",
    "    r_s = mu * phi_a# / (1 + np.exp(-F * eta_act / (R * T))) \n",
    "    delta = - b_det * L\n",
    "    dL = Y_ac * r_s * L + delta\n",
    "    dphi_a = Y_ac * r_s - b_ina * phi_a + phi_a * delta / L - phi_a * dL / L\n",
    "    dC_S = D_s * (C_Sb - C_S) / (L_l * L) - rho * r_s - C_S * dL / L\n",
    "    dC_CO2 = D_CO2 * (C_CO2b - C_CO2) / (L_l * L) + 4 * rho * r_s - C_CO2 * dL / L\n",
    "    dC_H = D_H * ((1e-7) - C_H) / (L_l * L) + 12 * rho * r_s - C_H * dL / L\n",
    "\n",
    "    dV_L = -A_m * dL\n",
    "\n",
    "    dC_Sb = -A_m * D_s * (C_Sb - C_S) / (L_l * V_L)\n",
    "    dC_CO2b = -A_m * D_CO2 * (C_CO2b - C_CO2) / (L_l * V_L)\n",
    "    \n",
    "    return np.array([dphi_a,dL, dC_Sb,dC_S,dC_CO2b,dC_CO2,dC_H,dV_L])\n",
    "    \n"
   ]
  },
  {
   "cell_type": "code",
   "execution_count": null,
   "metadata": {},
   "outputs": [],
   "source": [
    "E_A = E_0 + R * T * np.log((C_CO2 ** 3) * (C_H ** 12 )/ C_S) / (12 * F)\n",
    "\n",
    "R_int = d_m / k_m + d_cell / k_aq\n",
    "\n",
    "eta_act = V_C - i * A_m * (R_int + R_ext) - E_A\n",
    "\n",
    "i = 2 * i_0_ref * C_S * np.sinh(2.303 * eta_act / b)"
   ]
  }
 ],
 "metadata": {
  "kernelspec": {
   "display_name": "Python 3.8.10 ('base')",
   "language": "python",
   "name": "python3"
  },
  "language_info": {
   "codemirror_mode": {
    "name": "ipython",
    "version": 3
   },
   "file_extension": ".py",
   "mimetype": "text/x-python",
   "name": "python",
   "nbconvert_exporter": "python",
   "pygments_lexer": "ipython3",
   "version": "3.8.10"
  },
  "orig_nbformat": 4,
  "vscode": {
   "interpreter": {
    "hash": "205329d70d8b0adec7a60b133e8ace2c15b184f0945086327eda5948f641f23f"
   }
  }
 },
 "nbformat": 4,
 "nbformat_minor": 2
}
