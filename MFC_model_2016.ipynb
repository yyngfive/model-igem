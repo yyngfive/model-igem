{
 "cells": [
  {
   "cell_type": "code",
   "execution_count": 2,
   "metadata": {},
   "outputs": [],
   "source": [
    "import numpy as np\n",
    "from scipy.integrate import odeint\n",
    "from scipy.optimize import fsolve\n",
    "import pandas as pd\n",
    "import matplotlib.pyplot as plt"
   ]
  },
  {
   "cell_type": "code",
   "execution_count": 3,
   "metadata": {},
   "outputs": [],
   "source": [
    "def model_A(I, t, D_s,\n",
    "                  L_l,\n",
    "                  rho,\n",
    "                  Y_ac,\n",
    "                  b_ina,\n",
    "                  b_det,\n",
    "                  D_CO2,\n",
    "                  D_H,\n",
    "                  A_m,\n",
    "                  F,\n",
    "                  T,\n",
    "                  R,\n",
    "                  V_c,\n",
    "                  V_a,\n",
    "                  E_0_anode,\n",
    "                  E_0_cathode,\n",
    "                  i_0_ref,\n",
    "                  b,\n",
    "                  d_cell,\n",
    "                  k_aq,\n",
    "                  E_KA,\n",
    "                  d_m,\n",
    "                  k_m,\n",
    "                  C_O2_max,\n",
    "                  k_La,\n",
    "                  q_O2,\n",
    "                  r_max,\n",
    "                  K_s):\n",
    "\n",
    "    phi_a, L, C_Sb, C_S, C_CO2b, C_CO2, C_H, V_L, C_O2= I\n",
    "\n",
    "    def equ(i):\n",
    "        eta_act = b * np.arcsinh(i / (2 * i_0_ref * C_S)) / 2.303\n",
    "        eta_ohm = (d_m / k_m + d_cell / k_aq) * i\n",
    "        i_l = 8 * F * D_s * C_Sb / L_l \n",
    "        eta_con = R * T * np.log(i_l / (i_l - i))\n",
    "\n",
    "        E_anode = -E_0_anode - R * T * np.log((C_CO2 ** 3) * (C_H ** 12 )/ C_S) / (12 * F)\n",
    "        E_cathode = E_0_cathode - R * T * np.log(1 / (C_O2 * (1e-7) ** 4) ) / (4 * F)\n",
    "        return E_cathode - E_anode - eta_act - eta_con - eta_ohm - 100 * A_m * i\n",
    "\n",
    "    i = fsolve(equ, 60)[0]\n",
    "\n",
    "    eta_act = eta_act = b * np.arcsinh(i / (2 * i_0_ref * C_S)) / 2.303\n",
    "\n",
    "    mu = r_max * C_S / (K_s + C_S)\n",
    "    r_s = mu * phi_a# / (1 + np.exp(-F * eta_act / (R * T))) \n",
    "    delta = - b_det * L\n",
    "\n",
    "    dL = Y_ac * r_s * L + delta\n",
    "    dphi_a = Y_ac * r_s - b_ina * phi_a + phi_a * delta / L - phi_a * dL / L\n",
    "    dC_S = D_s * (C_Sb - C_S) / (L_l * L) - rho * r_s - C_S * dL / L\n",
    "    dC_CO2 = D_CO2 * (C_CO2b - C_CO2) / (L_l * L) + 4 * rho * r_s - C_CO2 * dL / L\n",
    "    dC_H = D_H * ((1e-7) - C_H) / (L_l * L) + 12 * rho * r_s - C_H * dL / L\n",
    "\n",
    "    dV_L = -A_m * dL\n",
    "\n",
    "    dC_Sb = -A_m * D_s * (C_Sb - C_S) / (L_l * V_L)\n",
    "    dC_CO2b = -A_m * D_CO2 * (C_CO2b - C_CO2) / (L_l * V_L)\n",
    "\n",
    "    dC_O2 = k_La * (C_O2_max - C_O2) - q_O2 * C_O2\n",
    "\n",
    "    \n",
    "\n",
    "    return np.array([dphi_a, dL, dC_Sb, dC_S, dC_CO2b, dC_CO2, dC_H, dV_L, dC_O2])"
   ]
  },
  {
   "cell_type": "code",
   "execution_count": 4,
   "metadata": {},
   "outputs": [],
   "source": [
    "def solve(model, I, t):\n",
    "    return odeint(model,I,t,args=(0.2544e-4,2e-4,50,0.212,0.02,0.05,0.9960e-4,2.3328e-4,54e-4,96450,303,8.314,135e-6,135e-6,340,1299,0.001,120,2.5e-2,3500,-155,4.5,1.7,7.26e-3,414,2.64,4.2,1.27e-3))"
   ]
  },
  {
   "cell_type": "code",
   "execution_count": 5,
   "metadata": {},
   "outputs": [],
   "source": [
    "from icecream import ic"
   ]
  },
  {
   "cell_type": "code",
   "execution_count": 11,
   "metadata": {},
   "outputs": [
    {
     "name": "stderr",
     "output_type": "stream",
     "text": [
      "ic| E_cathode-E_anode: 1638.6231580564875\n",
      "ic| eta_act: 1055.1705979060591\n",
      "ic| eta_con: 0.42930507432005693\n",
      "ic| eta_ohm: 172.05928781512603\n",
      "ic| E: 410.96396726098226\n"
     ]
    },
    {
     "name": "stdout",
     "output_type": "stream",
     "text": [
      "1.1579762384157966\n"
     ]
    },
    {
     "data": {
      "text/plain": [
       "[<matplotlib.lines.Line2D at 0x1e6b88f7bb0>]"
      ]
     },
     "execution_count": 11,
     "metadata": {},
     "output_type": "execute_result"
    },
    {
     "data": {
      "image/png": "[encoded data removed]",
      "text/plain": [
       "<Figure size 432x288 with 1 Axes>"
      ]
     },
     "metadata": {
      "needs_background": "light"
     },
     "output_type": "display_data"
    }
   ],
   "source": [
    "I = (0.1,0.01,5,0.0001,0.0001,0.0001,0.0001,135e-3,6e-3)\n",
    "t = np.arange(0,60,1)\n",
    "res = solve(model_A, I, t)\n",
    "\n",
    "b = 120\n",
    "i_0_ref = 0.001\n",
    "C_S = res[:,3]\n",
    "d_m = 4.5\n",
    "k_m = 1.7\n",
    "d_cell = 2.5e-2\n",
    "k_aq = 3500\n",
    "F = 96450\n",
    "D_s = 0.2544e-4\n",
    "C_Sb = res[:,2]\n",
    "L_l = 2e-4\n",
    "R = 8.314\n",
    "T = 303\n",
    "E_0_anode = 340\n",
    "C_CO2 = res[:,5]\n",
    "C_H = res[:,6]\n",
    "E_0_cathode = 1299\n",
    "C_O2 = res[:,8]\n",
    "A_m = 54e-4\n",
    "\n",
    "i = 65\n",
    "eta_act = b * np.arcsinh(i / (2 * i_0_ref * C_S[50])) / 2.303\n",
    "eta_ohm = (d_m / k_m + d_cell / k_aq) * i\n",
    "i_l = 8 * F * D_s * C_Sb[50] / L_l \n",
    "eta_con = R * T * np.log(i_l / (i_l - i))\n",
    "E_anode = -E_0_anode - R * T * np.log(C_CO2[50] ** 3 * C_H[50] ** 12 / C_S[50]) / (12 * F)\n",
    "E_cathode = E_0_cathode - R * T * np.log(1 / (C_O2[50] * (1e-7) ** 4) ) / (4 * F)\n",
    "ic(E_cathode-E_anode)\n",
    "ic(eta_act)\n",
    "ic(eta_con)\n",
    "ic(eta_ohm)\n",
    "E  =  E_cathode-E_anode-eta_ohm-eta_act-eta_con\n",
    "ic(E)\n",
    "def current(ini):\n",
    "    c_S, c_Sb, c_CO2, c_H, c_O2 = ini\n",
    "    def equ(i):\n",
    "        eta_act = b * np.arcsinh(i / (2 * i_0_ref * c_S)) / 2.303\n",
    "        eta_ohm = (d_m / k_m + d_cell / k_aq) * i\n",
    "        i_l = 8 * F * D_s * c_Sb / L_l \n",
    "        eta_con = R * T * np.log(i_l / (i_l - i))\n",
    "        E_anode = -E_0_anode - R * T * np.log(c_CO2 ** 3 * c_H ** 12 / c_S) / (12 * F)\n",
    "        E_cathode = E_0_cathode - R * T * np.log(1 / (c_O2 * (1e-7) ** 4) ) / (4 * F)\n",
    "        return E_cathode - E_anode - eta_act - eta_con - eta_ohm - 100 * A_m * i\n",
    "    \n",
    "    i = fsolve(equ,180)[0]\n",
    "    return i * A_m\n",
    "print(current((C_S[2],C_Sb[2],C_CO2[2],C_H[2],C_O2[2])))\n",
    "current_i = []\n",
    "E = []\n",
    "for n in range(np.shape(C_S)[0]):\n",
    "    current_i.append(current((C_S[n],C_Sb[n],C_CO2[n],C_H[n],C_O2[n])))\n",
    "    eta_act = b * np.arcsinh(i / (2 * i_0_ref * C_S[n])) / 2.303\n",
    "    eta_ohm = (d_m / k_m + d_cell / k_aq) * i\n",
    "    i_l = 8 * F * D_s * C_Sb[n] / L_l \n",
    "    eta_con = R * T * np.log(i_l / (i_l - i))\n",
    "    E_anode = -E_0_anode - R * T * np.log(C_CO2[n] ** 3 * C_H[n] ** 12 / C_S[n]) / (12 * F)\n",
    "    E_cathode = E_0_cathode - R * T * np.log(1 / (C_O2[n] * (1e-7) ** 4) ) / (4 * F)\n",
    "    E.append(E_cathode - E_anode - eta_act - eta_con - eta_ohm)\n",
    "plt.plot(t,E)"
   ]
  },
  {
   "cell_type": "code",
   "execution_count": 9,
   "metadata": {},
   "outputs": [
    {
     "name": "stdout",
     "output_type": "stream",
     "text": [
      "3.7912878474779057\n",
      "3.0000000000000004\n",
      "2.302775637731995\n",
      "1.7320508075688819\n",
      "1.3027756377319946\n",
      "1.0000000000000084\n"
     ]
    }
   ],
   "source": [
    "def test(alpha):\n",
    "\n",
    "    def equ(x):\n",
    "        return x ** 2+alpha*x -3\n",
    "    print(fsolve(equ,2)[0])\n",
    "\n",
    "for alpha in range(-3,3):\n",
    "    test(alpha)"
   ]
  },
  {
   "cell_type": "code",
   "execution_count": 68,
   "metadata": {},
   "outputs": [
    {
     "data": {
      "text/plain": [
       "[<matplotlib.lines.Line2D at 0x262832b8fa0>]"
      ]
     },
     "execution_count": 68,
     "metadata": {},
     "output_type": "execute_result"
    },
    {
     "data": {
      "image/png": "[encoded data removed]",
      "text/plain": [
       "<Figure size 432x288 with 1 Axes>"
      ]
     },
     "metadata": {
      "needs_background": "light"
     },
     "output_type": "display_data"
    }
   ],
   "source": [
    "np.arcsinh(i / (2 * i_0_ref * C_S[50]))\n",
    "plt.plot(t,C_Sb)"
   ]
  },
  {
   "cell_type": "code",
   "execution_count": 71,
   "metadata": {},
   "outputs": [
    {
     "data": {
      "text/plain": [
       "120"
      ]
     },
     "execution_count": 71,
     "metadata": {},
     "output_type": "execute_result"
    }
   ],
   "source": [
    "np.shape(C_S)[0]"
   ]
  }
 ],
 "metadata": {
  "kernelspec": {
   "display_name": "Python 3.9.5 ('ml')",
   "language": "python",
   "name": "python3"
  },
  "language_info": {
   "codemirror_mode": {
    "name": "ipython",
    "version": 3
   },
   "file_extension": ".py",
   "mimetype": "text/x-python",
   "name": "python",
   "nbconvert_exporter": "python",
   "pygments_lexer": "ipython3",
   "version": "3.9.5"
  },
  "orig_nbformat": 4,
  "vscode": {
   "interpreter": {
    "hash": "9331381e155adbf6fcdb369476f5e35201dd77a6b88aa6fa7684aa4c3ea3e282"
   }
  }
 },
 "nbformat": 4,
 "nbformat_minor": 2
}
